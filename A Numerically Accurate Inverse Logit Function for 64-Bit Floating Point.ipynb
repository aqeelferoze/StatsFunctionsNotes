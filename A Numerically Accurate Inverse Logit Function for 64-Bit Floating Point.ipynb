{
 "cells": [
  {
   "cell_type": "markdown",
   "metadata": {},
   "source": [
    "# The Inverse Logit Function"
   ]
  },
  {
   "cell_type": "markdown",
   "metadata": {},
   "source": [
    "In the theoretical description of the logistic regression probabilistic model, we come upon the inverse logit function:\n",
    "\n",
    "$$\n",
    "z \\to \\frac{1}{1 + \\exp(-z)}\n",
    "$$"
   ]
  },
  {
   "cell_type": "markdown",
   "metadata": {},
   "source": [
    "This function is also sometimes expressed using the softmax-style representation:\n",
    "    \n",
    "$$\n",
    "z \\to \\frac{\\exp(z)}{\\exp(z) + 1}\n",
    "$$"
   ]
  },
  {
   "cell_type": "markdown",
   "metadata": {},
   "source": [
    "When implementing this function in code, which of these forms (if either) should we use?\n",
    "\n",
    "The correct answer to this question is not immediately obvious as evidenced by a sequence of commits to the popular SciPy library:\n",
    "\n",
    "* [A commit to reverse the direction of a branch that switches between the two expressions](https://github.com/scipy/scipy/commit/47b73a3a87b86b4e18a7f21482eeaa66e26467d0)\n",
    "* [A commit to remove the branch completely](https://github.com/scipy/scipy/commit/30e181c1179177bd4e40c240ca70ce3b82dac873)"
   ]
  },
  {
   "cell_type": "markdown",
   "metadata": {},
   "source": [
    "# Our Analysis Strategy"
   ]
  },
  {
   "cell_type": "markdown",
   "metadata": {},
   "source": [
    "To decide between these two expressions, we need to consider how the optimal 64-bit floating point implementation would behave and then consider how these specific expressions fail relative to that unknown optimal implementation. To do that, we'll do some analysis that combines theoretical reasoning and empirical checks in Julia."
   ]
  },
  {
   "cell_type": "code",
   "execution_count": 1,
   "metadata": {},
   "outputs": [],
   "source": [
    "import Printf: @printf\n",
    "import Statistics: mean"
   ]
  },
  {
   "cell_type": "markdown",
   "metadata": {},
   "source": [
    "Throughout this analysis, we'll make use of Julia's built-in BigFloat type, which wraps the MPFR library and allows us to define the global precision. We'll do so now:"
   ]
  },
  {
   "cell_type": "code",
   "execution_count": 2,
   "metadata": {},
   "outputs": [
    {
     "data": {
      "text/plain": [
       "256"
      ]
     },
     "execution_count": 2,
     "metadata": {},
     "output_type": "execute_result"
    }
   ],
   "source": [
    "setprecision(256)"
   ]
  },
  {
   "cell_type": "markdown",
   "metadata": {},
   "source": [
    "Given access to 256-bit floating point numbers, we can evaluate the accuracy of an expression that operates on 64-bit floating point numbers by lifting it to operate on BigFloat's and then truncatinig down to Float64 again. We define a `lift` function to do this:"
   ]
  },
  {
   "cell_type": "code",
   "execution_count": 3,
   "metadata": {},
   "outputs": [
    {
     "data": {
      "text/plain": [
       "lift (generic function with 1 method)"
      ]
     },
     "execution_count": 3,
     "metadata": {},
     "output_type": "execute_result"
    }
   ],
   "source": [
    "lift(e) = x -> Float64(e(big(x)))"
   ]
  },
  {
   "cell_type": "markdown",
   "metadata": {},
   "source": [
    "To make use of this lifting and comparison strategy, we'll write a helper function that spits out diagnostics about the accuracy of an expression over a set of input values. In particular, we'll consider the average number of incorrect bits in the output, the rate at which the output matches the optimal output exactly, the average error and the maximium error. Our function to do this is called `evaluate_errors`:"
   ]
  },
  {
   "cell_type": "code",
   "execution_count": 4,
   "metadata": {},
   "outputs": [
    {
     "data": {
      "text/plain": [
       "evaluate_errors (generic function with 1 method)"
      ]
     },
     "execution_count": 4,
     "metadata": {},
     "output_type": "execute_result"
    }
   ],
   "source": [
    "function evaluate_errors(e, xs)\n",
    "    y_approx = map(e, xs)\n",
    "    y_optimal = map(lift(e), xs)\n",
    "    wrong_bits = count_ones.(\n",
    "        xor.(\n",
    "            map(f -> reinterpret(Int64, f), y_approx),\n",
    "            map(f -> reinterpret(Int64, f), y_optimal),\n",
    "        )\n",
    "    )\n",
    "    errs = abs.(y_approx - y_optimal)\n",
    "    @printf(\n",
    "        \"\"\"\n",
    "        Frequency of Exact Results:       %s\n",
    "        Average Error:                    %s\n",
    "        Maximum Error:                    %s\n",
    "        Average Number of Incorrect Bits: %s\n",
    "        \"\"\",\n",
    "        mean(errs .== 0.0),\n",
    "        mean(errs),\n",
    "        maximum(errs),\n",
    "        mean(wrong_bits),\n",
    "    )\n",
    "    return\n",
    "end"
   ]
  },
  {
   "cell_type": "markdown",
   "metadata": {},
   "source": [
    "# Our Theoretical Analysis"
   ]
  },
  {
   "cell_type": "markdown",
   "metadata": {},
   "source": [
    "We first want to determine the range of inputs over which an optimal implementation would produce meaningful results. That range is determined by how closely 64-bit floats can come to 0.0 and 1.0. Specifically, no solution will ever produce accurate numbers past the smallest float above 0.0 and the largest float below 1.0 except by generating the constant values 0.0 and 1.0. We compute those closest points using the Julia functions `nextfloat` and `prevfloat`:"
   ]
  },
  {
   "cell_type": "code",
   "execution_count": 5,
   "metadata": {},
   "outputs": [
    {
     "data": {
      "text/plain": [
       "5.0e-324"
      ]
     },
     "execution_count": 5,
     "metadata": {},
     "output_type": "execute_result"
    }
   ],
   "source": [
    "nextfloat(0.0)"
   ]
  },
  {
   "cell_type": "code",
   "execution_count": 6,
   "metadata": {},
   "outputs": [
    {
     "data": {
      "text/plain": [
       "0.9999999999999999"
      ]
     },
     "execution_count": 6,
     "metadata": {},
     "output_type": "execute_result"
    }
   ],
   "source": [
    "prevfloat(1.0)"
   ]
  },
  {
   "cell_type": "markdown",
   "metadata": {},
   "source": [
    "We can get a sense of the input range that generates these by using 256-bit precision floats to compute the logit of these outputs and then finding the closest 64-bit floating point values."
   ]
  },
  {
   "cell_type": "code",
   "execution_count": 7,
   "metadata": {},
   "outputs": [
    {
     "data": {
      "text/plain": [
       "logit (generic function with 1 method)"
      ]
     },
     "execution_count": 7,
     "metadata": {},
     "output_type": "execute_result"
    }
   ],
   "source": [
    "logit(p) = log(p / (1 - p))"
   ]
  },
  {
   "cell_type": "code",
   "execution_count": 8,
   "metadata": {},
   "outputs": [
    {
     "data": {
      "text/plain": [
       "-744.4400719213812"
      ]
     },
     "execution_count": 8,
     "metadata": {},
     "output_type": "execute_result"
    }
   ],
   "source": [
    "theoretical_lower = lift(logit)(nextfloat(0.0))"
   ]
  },
  {
   "cell_type": "code",
   "execution_count": 9,
   "metadata": {},
   "outputs": [
    {
     "data": {
      "text/plain": [
       "36.7368005696771"
      ]
     },
     "execution_count": 9,
     "metadata": {},
     "output_type": "execute_result"
    }
   ],
   "source": [
    "theoretical_upper = lift(logit)(prevfloat(1.0))"
   ]
  },
  {
   "cell_type": "markdown",
   "metadata": {},
   "source": [
    "We know that all `z < theoretical_lower` should generate `0.0` as a result and all `z > theoretical_upper` should generate `1.0` as a result. So we only need to understand how well any proposed implementation works within these bounds."
   ]
  },
  {
   "cell_type": "markdown",
   "metadata": {},
   "source": [
    "## Finding a Good Expression"
   ]
  },
  {
   "cell_type": "markdown",
   "metadata": {},
   "source": [
    "We'll consider the two options listed at the start:"
   ]
  },
  {
   "cell_type": "code",
   "execution_count": 10,
   "metadata": {},
   "outputs": [
    {
     "data": {
      "text/plain": [
       "#9 (generic function with 1 method)"
      ]
     },
     "execution_count": 10,
     "metadata": {},
     "output_type": "execute_result"
    }
   ],
   "source": [
    "e1 = z -> 1 / (1 + exp(-z))"
   ]
  },
  {
   "cell_type": "code",
   "execution_count": 11,
   "metadata": {},
   "outputs": [
    {
     "data": {
      "text/plain": [
       "#11 (generic function with 1 method)"
      ]
     },
     "execution_count": 11,
     "metadata": {},
     "output_type": "execute_result"
    }
   ],
   "source": [
    "e2 = z -> exp(z) / (exp(z) + 1)"
   ]
  },
  {
   "cell_type": "markdown",
   "metadata": {},
   "source": [
    "To get started thinking about these expressions, let's consider how they behave as `z` heads toward `-Inf` or `Inf`.\n",
    "\n",
    "As `z` heads towards `-Inf`, the dominating factor for `e1` will be when `1 + exp(-z)` goes to `Inf`, since `1.0 / Inf === 0.0`. If `1 + exp(-z) === Inf`, then `exp(-z) === Inf`. What happens right before that? Before that, we expect that roughly `exp(-z) === floatmax(Float64)`, which implies that `z = -log(floatmax(Float64))`. We can calculate this exactly to see the bound on how low `z` can be before overflow kicks in:\n"
   ]
  },
  {
   "cell_type": "code",
   "execution_count": 12,
   "metadata": {},
   "outputs": [
    {
     "data": {
      "text/plain": [
       "-709.782712893384"
      ]
     },
     "execution_count": 12,
     "metadata": {},
     "output_type": "execute_result"
    }
   ],
   "source": [
    "-log(floatmax(Float64))"
   ]
  },
  {
   "cell_type": "markdown",
   "metadata": {},
   "source": [
    "We can also directly confirm that `e1` starts to generate exact `0.0` values below that point:"
   ]
  },
  {
   "cell_type": "code",
   "execution_count": 13,
   "metadata": {},
   "outputs": [
    {
     "data": {
      "text/plain": [
       "(5.562684646268137e-309, 0.0)"
      ]
     },
     "execution_count": 13,
     "metadata": {},
     "output_type": "execute_result"
    }
   ],
   "source": [
    "(\n",
    "    e1(-log(floatmax(Float64))),\n",
    "    e1(prevfloat(-log(floatmax(Float64))))\n",
    ")"
   ]
  },
  {
   "cell_type": "markdown",
   "metadata": {},
   "source": [
    "This leaves us with a region from `theoretical_lower` to `prevfloat(-log(floatmax(Float64)))` in which we might hope we can do better. That region is:"
   ]
  },
  {
   "cell_type": "code",
   "execution_count": 14,
   "metadata": {},
   "outputs": [
    {
     "data": {
      "text/plain": [
       "(-744.4400719213812, -709.7827128933841)"
      ]
     },
     "execution_count": 14,
     "metadata": {},
     "output_type": "execute_result"
    }
   ],
   "source": [
    "(\n",
    "    theoretical_lower,\n",
    "    prevfloat(-log(floatmax(Float64))),\n",
    ")"
   ]
  },
  {
   "cell_type": "markdown",
   "metadata": {},
   "source": [
    "In contrast to `e1`, `e2` has an interesting behavior in this region: for very negative `z`, `exp(z) + 1 === 1.0`, so the overall expression for `e2` becomes identical to evaluating `exp(z)` alone. This change happens roughly when `exp(z) < eps(1.0)`, which is:"
   ]
  },
  {
   "cell_type": "code",
   "execution_count": 15,
   "metadata": {},
   "outputs": [
    {
     "data": {
      "text/plain": [
       "-36.04365338911715"
      ]
     },
     "execution_count": 15,
     "metadata": {},
     "output_type": "execute_result"
    }
   ],
   "source": [
    "log(eps(1.0))"
   ]
  },
  {
   "cell_type": "markdown",
   "metadata": {},
   "source": [
    "Can we convince ourselves that `exp(z)` produces useful results in the region in which `e1` overflows? One thing we can do as a basic sanity check is verify that the the result is correct at `theoretical_lower`:"
   ]
  },
  {
   "cell_type": "code",
   "execution_count": 16,
   "metadata": {},
   "outputs": [
    {
     "data": {
      "text/plain": [
       "true"
      ]
     },
     "execution_count": 16,
     "metadata": {},
     "output_type": "execute_result"
    }
   ],
   "source": [
    "exp(theoretical_lower) === nextfloat(0.0)"
   ]
  },
  {
   "cell_type": "markdown",
   "metadata": {},
   "source": [
    "This suggests `e2` should be superior to `e1` in the region in which we know `e1` is suspectible to overflow. Later we'll convince ourselves that it's broadly true that `e2` is superior."
   ]
  },
  {
   "cell_type": "markdown",
   "metadata": {},
   "source": [
    "Having considered what happens as `z` heads towards `-Inf`, let's see what happpens as `z` heads towards `Inf`."
   ]
  },
  {
   "cell_type": "markdown",
   "metadata": {},
   "source": [
    "As `z` heads to `Inf`, `e1` is dominated by errors when `1 + exp(-z) === 1.0`. This happens roughly when `exp(-z) < eps(1.0)`. That should occur around:"
   ]
  },
  {
   "cell_type": "code",
   "execution_count": 17,
   "metadata": {},
   "outputs": [
    {
     "data": {
      "text/plain": [
       "36.04365338911715"
      ]
     },
     "execution_count": 17,
     "metadata": {},
     "output_type": "execute_result"
    }
   ],
   "source": [
    "-log(eps(1.0))"
   ]
  },
  {
   "cell_type": "markdown",
   "metadata": {},
   "source": [
    "In contrast, as `z` heads to `Inf`, `e2` is dominated by errors when `exp(z) + 1 === exp(z)`. That occurs when `eps(exp(z)) > 1`.\n",
    "\n",
    "From this [tweet](https://twitter.com/i/status/1245691382607601666), this occurs around `log(2^53)`, which is:"
   ]
  },
  {
   "cell_type": "code",
   "execution_count": 18,
   "metadata": {},
   "outputs": [
    {
     "data": {
      "text/plain": [
       "36.7368005696771"
      ]
     },
     "execution_count": 18,
     "metadata": {},
     "output_type": "execute_result"
    }
   ],
   "source": [
    "log(2^53)"
   ]
  },
  {
   "cell_type": "markdown",
   "metadata": {},
   "source": [
    "So we might expect that `e2` is better `e1` in the region between `-log(eps(1.0))` and `log(2^53)`."
   ]
  },
  {
   "cell_type": "markdown",
   "metadata": {},
   "source": [
    "Before we move on to verifying our ideas, we should summarize all of the magic numbers we've encountered so far:"
   ]
  },
  {
   "cell_type": "code",
   "execution_count": 19,
   "metadata": {},
   "outputs": [
    {
     "data": {
      "text/plain": [
       "(-744.4400719213812, -709.782712893384, 36.04365338911715, 36.7368005696771, 36.7368005696771)"
      ]
     },
     "execution_count": 19,
     "metadata": {},
     "output_type": "execute_result"
    }
   ],
   "source": [
    "(\n",
    "    theoretical_lower, # Value below which invlogit(z) must result in 0.0.\n",
    "    -log(floatmax(Float64)), # Value below which exp(-z) overflows to Inf.\n",
    "    -log(eps(1.0)), # Value above which exp(-z) underflows below eps(1.0), so 1 + exp(-z) === 1.0.\n",
    "    log(2^53), # Value above which exp(z) + 1 === exp(z).\n",
    "    theoretical_upper, # Value above which invlogit(z) must result in 1.0.\n",
    ")"
   ]
  },
  {
   "cell_type": "markdown",
   "metadata": {},
   "source": [
    "There is one limitation for `e2` that we haven't called out: it will overflow to `Inf / (Inf + 1)` for large `z`, which generates a `NaN` result. We should guard the function to prevent this. This is easy to do using `theoretical_upper`."
   ]
  },
  {
   "cell_type": "markdown",
   "metadata": {},
   "source": [
    "# Empirical Assessment"
   ]
  },
  {
   "cell_type": "markdown",
   "metadata": {},
   "source": [
    "So far we've used theoretical arguments. Going forward, we'll evaluate our expressions against optimal results calculated using 256-bit floating point numbers using the `evaluate_errors` function we defined earlier. We'll consider three regions:\n",
    "\n",
    "* `theoretical_lower` to `-log(floatmax(Float64))`\n",
    "* `-log(floatmax(Float64))` to `-log(eps(1.0))`\n",
    "* `-log(eps(1.0))` to `theoretical_upper`"
   ]
  },
  {
   "cell_type": "code",
   "execution_count": 20,
   "metadata": {},
   "outputs": [
    {
     "data": {
      "text/plain": [
       "-744.4400719213812:0.00346608251105083:-709.782712893384"
      ]
     },
     "execution_count": 20,
     "metadata": {},
     "output_type": "execute_result"
    }
   ],
   "source": [
    "n = 10_000\n",
    "lower = theoretical_lower\n",
    "upper = -log(floatmax(Float64))\n",
    "xs = range(lower, upper, length=n)"
   ]
  },
  {
   "cell_type": "code",
   "execution_count": 21,
   "metadata": {},
   "outputs": [
    {
     "name": "stdout",
     "output_type": "stream",
     "text": [
      "Frequency of Exact Results:       0.0001\n",
      "Average Error:                    1.6021112698925e-310\n",
      "Maximum Error:                    5.54343729801906e-309\n",
      "Average Number of Incorrect Bits: 13.1108\n"
     ]
    }
   ],
   "source": [
    "evaluate_errors(e1, xs)"
   ]
  },
  {
   "cell_type": "code",
   "execution_count": 22,
   "metadata": {},
   "outputs": [
    {
     "name": "stdout",
     "output_type": "stream",
     "text": [
      "Frequency of Exact Results:       0.9964\n",
      "Average Error:                    0.0\n",
      "Maximum Error:                    5.0e-324\n",
      "Average Number of Incorrect Bits: 0.0079\n"
     ]
    }
   ],
   "source": [
    "evaluate_errors(e2, xs)"
   ]
  },
  {
   "cell_type": "markdown",
   "metadata": {},
   "source": [
    "If you're worried that we're comparing our expressions against their lifted versions and therefore potentially not making a fair comparison, note that `lift(e1)` and `lift(e2)` evaluate to the same thing in this region:"
   ]
  },
  {
   "cell_type": "code",
   "execution_count": 23,
   "metadata": {},
   "outputs": [
    {
     "data": {
      "text/plain": [
       "true"
      ]
     },
     "execution_count": 23,
     "metadata": {},
     "output_type": "execute_result"
    }
   ],
   "source": [
    "all(map(lift(e1), xs) .== map(lift(e2), xs))"
   ]
  },
  {
   "cell_type": "markdown",
   "metadata": {},
   "source": [
    "Let's repeat for the other two regions:"
   ]
  },
  {
   "cell_type": "code",
   "execution_count": 24,
   "metadata": {},
   "outputs": [
    {
     "data": {
      "text/plain": [
       "-709.782712893384:0.0745900956378139:36.04365338911715"
      ]
     },
     "execution_count": 24,
     "metadata": {},
     "output_type": "execute_result"
    }
   ],
   "source": [
    "n = 10_000\n",
    "lower = -log(floatmax(Float64))\n",
    "upper = -log(eps(1.0))\n",
    "xs = range(lower, upper, length=n)"
   ]
  },
  {
   "cell_type": "code",
   "execution_count": 25,
   "metadata": {},
   "outputs": [
    {
     "name": "stdout",
     "output_type": "stream",
     "text": [
      "Frequency of Exact Results:       0.7058\n",
      "Average Error:                    2.738026739281825e-18\n",
      "Maximum Error:                    1.1102230246251565e-16\n",
      "Average Number of Incorrect Bits: 0.575\n"
     ]
    }
   ],
   "source": [
    "evaluate_errors(e1, xs)"
   ]
  },
  {
   "cell_type": "code",
   "execution_count": 26,
   "metadata": {},
   "outputs": [
    {
     "name": "stdout",
     "output_type": "stream",
     "text": [
      "Frequency of Exact Results:       0.889\n",
      "Average Error:                    1.0784458228483968e-19\n",
      "Maximum Error:                    1.1102230246251565e-16\n",
      "Average Number of Incorrect Bits: 0.2148\n"
     ]
    }
   ],
   "source": [
    "evaluate_errors(e2, xs)"
   ]
  },
  {
   "cell_type": "code",
   "execution_count": 27,
   "metadata": {},
   "outputs": [
    {
     "data": {
      "text/plain": [
       "36.04365338911715:6.932165022101682e-5:36.7368005696771"
      ]
     },
     "execution_count": 27,
     "metadata": {},
     "output_type": "execute_result"
    }
   ],
   "source": [
    "n = 10_000\n",
    "lower = -log(eps(1.0))\n",
    "upper = theoretical_upper\n",
    "xs = range(lower, upper, length=n)"
   ]
  },
  {
   "cell_type": "code",
   "execution_count": 28,
   "metadata": {},
   "outputs": [
    {
     "name": "stdout",
     "output_type": "stream",
     "text": [
      "Frequency of Exact Results:       0.415\n",
      "Average Error:                    6.494804694057165e-17\n",
      "Maximum Error:                    1.1102230246251565e-16\n",
      "Average Number of Incorrect Bits: 0.585\n"
     ]
    }
   ],
   "source": [
    "evaluate_errors(e1, xs)"
   ]
  },
  {
   "cell_type": "code",
   "execution_count": 29,
   "metadata": {},
   "outputs": [
    {
     "name": "stdout",
     "output_type": "stream",
     "text": [
      "Frequency of Exact Results:       1.0\n",
      "Average Error:                    0.0\n",
      "Maximum Error:                    0.0\n",
      "Average Number of Incorrect Bits: 0.0\n"
     ]
    }
   ],
   "source": [
    "evaluate_errors(e2, xs)"
   ]
  },
  {
   "cell_type": "markdown",
   "metadata": {},
   "source": [
    "# Putting It All Together"
   ]
  },
  {
   "cell_type": "markdown",
   "metadata": {},
   "source": [
    "Taken together, I think this suggest the best implementation should look something like, but potentially using `ifelse` to make the function amenable to SIMD optimizations:"
   ]
  },
  {
   "cell_type": "code",
   "execution_count": 30,
   "metadata": {},
   "outputs": [
    {
     "data": {
      "text/plain": [
       "invlogit (generic function with 1 method)"
      ]
     },
     "execution_count": 30,
     "metadata": {},
     "output_type": "execute_result"
    }
   ],
   "source": [
    "function invlogit(z)\n",
    "    if z < -744.4400719213812 # Float64(logit(big(nextfloat(0.0))))\n",
    "        0.0\n",
    "    elseif z > 36.7368005696771 # Float64(logit(big(prevfloat(1.0))))\n",
    "        1.0\n",
    "    else\n",
    "        exp(z) / (exp(z) + 1)\n",
    "    end\n",
    "end"
   ]
  },
  {
   "cell_type": "code",
   "execution_count": 39,
   "metadata": {},
   "outputs": [
    {
     "data": {
      "text/plain": [
       "(0.0, 0.0, 0.0)"
      ]
     },
     "execution_count": 39,
     "metadata": {},
     "output_type": "execute_result"
    }
   ],
   "source": [
    "invlogit(-10000), e1(-10000), e2(-10000)"
   ]
  },
  {
   "cell_type": "code",
   "execution_count": 40,
   "metadata": {},
   "outputs": [
    {
     "data": {
      "text/plain": [
       "(5.0e-324, 0.0, 5.0e-324)"
      ]
     },
     "execution_count": 40,
     "metadata": {},
     "output_type": "execute_result"
    }
   ],
   "source": [
    "invlogit(theoretical_lower), e1(theoretical_lower), e2(theoretical_lower)"
   ]
  },
  {
   "cell_type": "code",
   "execution_count": 41,
   "metadata": {},
   "outputs": [
    {
     "data": {
      "text/plain": [
       "(5.562684646268137e-309, 5.562684646268137e-309, 5.562684646268137e-309)"
      ]
     },
     "execution_count": 41,
     "metadata": {},
     "output_type": "execute_result"
    }
   ],
   "source": [
    "invlogit(-log(floatmax(Float64))), e1(-log(floatmax(Float64))), e2(-log(floatmax(Float64)))"
   ]
  },
  {
   "cell_type": "code",
   "execution_count": 42,
   "metadata": {},
   "outputs": [
    {
     "data": {
      "text/plain": [
       "(0.2689414213699951, 0.2689414213699951, 0.2689414213699951)"
      ]
     },
     "execution_count": 42,
     "metadata": {},
     "output_type": "execute_result"
    }
   ],
   "source": [
    "invlogit(-1), e1(-1), e2(-1)"
   ]
  },
  {
   "cell_type": "code",
   "execution_count": 43,
   "metadata": {},
   "outputs": [
    {
     "data": {
      "text/plain": [
       "(0.5, 0.5, 0.5)"
      ]
     },
     "execution_count": 43,
     "metadata": {},
     "output_type": "execute_result"
    }
   ],
   "source": [
    "invlogit(0), e1(0), e2(0)"
   ]
  },
  {
   "cell_type": "code",
   "execution_count": 44,
   "metadata": {},
   "outputs": [
    {
     "data": {
      "text/plain": [
       "(0.7310585786300049, 0.7310585786300049, 0.7310585786300049)"
      ]
     },
     "execution_count": 44,
     "metadata": {},
     "output_type": "execute_result"
    }
   ],
   "source": [
    "invlogit(1), e1(1), e2(1)"
   ]
  },
  {
   "cell_type": "code",
   "execution_count": 45,
   "metadata": {},
   "outputs": [
    {
     "data": {
      "text/plain": [
       "(0.9999999999999998, 0.9999999999999998, 0.9999999999999998)"
      ]
     },
     "execution_count": 45,
     "metadata": {},
     "output_type": "execute_result"
    }
   ],
   "source": [
    "invlogit(-log(eps(1.0))), e1(-log(eps(1.0))), e2(-log(eps(1.0)))"
   ]
  },
  {
   "cell_type": "code",
   "execution_count": 46,
   "metadata": {},
   "outputs": [
    {
     "data": {
      "text/plain": [
       "(1.0, 1.0, NaN)"
      ]
     },
     "execution_count": 46,
     "metadata": {},
     "output_type": "execute_result"
    }
   ],
   "source": [
    "invlogit(10000), e1(10000), e2(10000)"
   ]
  }
 ],
 "metadata": {
  "kernelspec": {
   "display_name": "Julia 1.4.1",
   "language": "julia",
   "name": "julia-1.4"
  },
  "language_info": {
   "file_extension": ".jl",
   "mimetype": "application/julia",
   "name": "julia",
   "version": "1.4.1"
  }
 },
 "nbformat": 4,
 "nbformat_minor": 4
}
